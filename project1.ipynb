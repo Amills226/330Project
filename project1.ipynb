{
 "cells": [
  {
   "cell_type": "code",
   "execution_count": 1,
   "metadata": {},
   "outputs": [],
   "source": [
    "from composable import pipeable\n",
    "from toolz.curried.operator import add\n",
    "from toolz.curried.operator import eq\n",
    "from composable.strict import map\n",
    "from toolz.curried import get\n",
    "import composable.strict as s\n",
    "import re"
   ]
  },
  {
   "cell_type": "code",
   "execution_count": 2,
   "metadata": {},
   "outputs": [],
   "source": [
    "with open('sell_short_trades.txt') as f:\n",
    "    lines = f.readlines()\n",
    "lines[:10]\n",
    "no_header = lines[7:]\n"
   ]
  },
  {
   "cell_type": "code",
   "execution_count": 3,
   "metadata": {},
   "outputs": [
    {
     "data": {
      "text/plain": [
       "['CERS     SS      NEW        2,756   2.400000    2.340000   2.45000006/1406/191706149900003 09:30:CustSS',\n",
       " '/17  /17  256945       00',\n",
       " '0704 PerUnit   TERM  0.010000     AABBC     1706149900003#STA=GSCO',\n",
       " 'CERS     SS      NEW          100   2.36000018422.360000   2.37000006/1406/191706149900003 10:20:ContraSSFREX',\n",
       " '/17  /17  866087       04',\n",
       " '0704 PerUnit   TERM  0.010000     AABBC     1706149900003#STA=CERS',\n",
       " '854300',\n",
       " 'CERS     SS      NEW          200   2.350000    2.360000   2.37000006/1406/191706149900003 10:20:ContraSSFREX',\n",
       " '/17  /17  866096       04',\n",
       " '0704 PerUnit   TERM  0.010000     AABBC     1706149900003#STA=CERS',\n",
       " '854300',\n",
       " 'CERS     SS      NEW          100   2.350000    2.350000   2.36000006/1406/191706149900003 10:20:ContraSSFREX',\n",
       " '/17  /17  869780       23',\n",
       " '0704 PerUnit   TERM  0.010000     AABBC     1706149900003#STA=CERS',\n",
       " '854300',\n",
       " 'CERS     SS      NEW          100   2.350000    2.350000   2.36000006/1406/191706149900003 10:22:ContraSSFREX',\n",
       " '/17  /17  892888       29',\n",
       " '0704 PerUnit   TERM  0.010000     AABBC     1706149900003#STA=CERS',\n",
       " '854300',\n",
       " 'CERS     SS      NEW          100   2.360000    2.350000   2.36000006/1406/191706149900003 10:24:ContraSSFREX']"
      ]
     },
     "execution_count": 3,
     "metadata": {},
     "output_type": "execute_result"
    }
   ],
   "source": [
    "stripped_lines = [line.strip() for line in no_header if line.strip()]\n",
    "stripped_lines[:20]"
   ]
  },
  {
   "cell_type": "code",
   "execution_count": 57,
   "metadata": {},
   "outputs": [
    {
     "data": {
      "text/plain": [
       "['CERS     SS      NEW        2,756   2.400000    2.340000   2.45000006/1406/191706149900003 09:30:CustSS',\n",
       " '/17  /17  256945       00',\n",
       " '0704 PerUnit   TERM  0.010000     AABBC     1706149900003#STA=GSCO',\n",
       " 'CERS     SS      NEW          100   2.36000018422.360000   2.37000006/1406/191706149900003 10:20:ContraSSFREX',\n",
       " '/17  /17  866087       04',\n",
       " '0704 PerUnit   TERM  0.010000     AABBC     1706149900003#STA=CERS',\n",
       " 'CERS     SS      NEW          200   2.350000    2.360000   2.37000006/1406/191706149900003 10:20:ContraSSFREX',\n",
       " '/17  /17  866096       04',\n",
       " '0704 PerUnit   TERM  0.010000     AABBC     1706149900003#STA=CERS',\n",
       " 'CERS     SS      NEW          100   2.350000    2.350000   2.36000006/1406/191706149900003 10:20:ContraSSFREX']"
      ]
     },
     "execution_count": 57,
     "metadata": {},
     "output_type": "execute_result"
    }
   ],
   "source": [
    "header = re.compile('Symbol|TradeCommType')\n",
    "page_num = re.compile('\\d of \\d\\d')\n",
    "extra_num = re.compile('854300')\n",
    "is_page_num_line = lambda l: page_num.search(l)\n",
    "is_blank = lambda l: len(l.strip()) == 0\n",
    "is_extra = lambda l: extra_num.search(l)\n",
    "is_header = lambda l: header.search(l)\n",
    "needs_removal = lambda l: is_blank(l) or is_page_num_line(l) or is_extra(l) or is_header(l)\n",
    "culled_lines = [l for l in stripped_lines if not needs_removal(l)]\n",
    "culled_lines[:10]"
   ]
  },
  {
   "cell_type": "code",
   "execution_count": 58,
   "metadata": {},
   "outputs": [
    {
     "data": {
      "text/plain": [
       "'CERS     SS      NEW        2,756   2.400000    2.340000   2.45000006/1406/191706149900003 09:30:CustSS,/17  /17  256945       00,0704 PerUnit   TERM  0.010000     AABBC     1706149900003#STA=GSCO'"
      ]
     },
     "execution_count": 58,
     "metadata": {},
     "output_type": "execute_result"
    }
   ],
   "source": [
    "get_layer = lambda l: l[:3]\n",
    "joined = ','.join(get_layer(stripped_lines))\n",
    "joined\n"
   ]
  },
  {
   "cell_type": "code",
   "execution_count": 59,
   "metadata": {},
   "outputs": [
    {
     "data": {
      "text/plain": [
       "['CERS     SS      NEW        2,756   2.400000    2.340000   2.45000006/1406/191706149900003 09:30:CustSS,/17  /17  256945       00,0704 PerUnit   TERM  0.010000     AABBC     1706149900003#STA=GSCO',\n",
       " 'CERS     SS      NEW          100   2.36000018422.360000   2.37000006/1406/191706149900003 10:20:ContraSSFREX,/17  /17  866087       04,0704 PerUnit   TERM  0.010000     AABBC     1706149900003#STA=CERS',\n",
       " 'CERS     SS      NEW          200   2.350000    2.360000   2.37000006/1406/191706149900003 10:20:ContraSSFREX,/17  /17  866096       04,0704 PerUnit   TERM  0.010000     AABBC     1706149900003#STA=CERS',\n",
       " 'CERS     SS      NEW          100   2.350000    2.350000   2.36000006/1406/191706149900003 10:20:ContraSSFREX,/17  /17  869780       23,0704 PerUnit   TERM  0.010000     AABBC     1706149900003#STA=CERS',\n",
       " 'CERS     SS      NEW          100   2.350000    2.350000   2.36000006/1406/191706149900003 10:22:ContraSSFREX,/17  /17  892888       29,0704 PerUnit   TERM  0.010000     AABBC     1706149900003#STA=CERS',\n",
       " 'CERS     SS      NEW          100   2.360000    2.350000   2.36000006/1406/191706149900003 10:24:ContraSSFREX,/17  /17  909119       01,0704 PerUnit   TERM  0.010000     AABBC     1706149900003#STA=CERS',\n",
       " 'CERS     SS      NEW          100   2.36000085432.350000   2.36000006/1406/191706149900003 10:24:ContraSSFREX,/17  /17  909128       01,0704 PerUnit   TERM  0.010000     AABBC     1706149900003#STA=CERS',\n",
       " 'CERS     SS      NEW          100   2.360000    2.350000   2.36000006/1406/191706149900003 10:24:ContraSSFREX,/17  /17  909140       01,0704 PerUnit   TERM  0.010000     AABBC     1706149900003#STA=CERS',\n",
       " 'CERS     SS      NEW          100   2.360000    2.350000   2.36000006/1406/191706149900003 10:24:ContraSSFREX,/17  /17  909143       01,0704 PerUnit   TERM  0.010000     AABBC     1706149900003#STA=CERS',\n",
       " 'CERS     SS      NEW          100   2.360000    2.350000   2.36000006/1406/191706149900003 10:24:ContraSSFREX,/17  /17  909148       01,0704 PerUnit   TERM  0.010000     AABBC     1706149900003#STA=CERS']"
      ]
     },
     "execution_count": 59,
     "metadata": {},
     "output_type": "execute_result"
    }
   ],
   "source": [
    "stop_condition = lambda s: len(s) <= 3\n",
    "get_layer = lambda l: l[:3]\n",
    "comma_join = lambda l: ','.join(get_layer(l))\n",
    "get_remaining = lambda l: l[3:]\n",
    "new_seq = []\n",
    "remaining_layers = culled_lines\n",
    "while not stop_condition(remaining_layers):   \n",
    "    new_seq = new_seq + [comma_join(get_layer(remaining_layers))]\n",
    "    remaining_layers = get_remaining(remaining_layers)\n",
    "new_seq[:10]"
   ]
  },
  {
   "cell_type": "code",
   "execution_count": 60,
   "metadata": {},
   "outputs": [
    {
     "data": {
      "text/plain": [
       "'CERS,SS,NEW,2,756,2.400000,2.340000,2.45000006/1406/191706149900003,09:30:CustSS,/17,/17,256945,00,0704,PerUnit,TERM,0.010000,AABBC,1706149900003#STA=GSCO\\nCERS,SS,NEW,100,2.36000018422.360000,2.37000006/1406/191706149900003,10:20:ContraSSFREX,/17,/17,866087,04,0704,PerUnit,TERM,0.010000,AABBC,1706149900003#STA=CERS\\nCERS,SS,NEW,200,2.350000,2.360000,2.37000006/1406/191706149900003,10:20:ContraSSFREX,/17,/17,866096,04,0704,PerUnit,TERM,0.010000,AABBC,1706149900003#STA=CERS\\nCERS,SS,NEW,100,2.350000'"
      ]
     },
     "execution_count": 60,
     "metadata": {},
     "output_type": "execute_result"
    }
   ],
   "source": [
    "stripped = [line.strip().split() for line in new_seq]\n",
    "stripped[:5]\n",
    "joined = '\\n'.join([','.join(line) for line in stripped])\n",
    "joined[:500]\n"
   ]
  },
  {
   "cell_type": "code",
   "execution_count": 61,
   "metadata": {},
   "outputs": [
    {
     "name": "stdout",
     "output_type": "stream",
     "text": [
      "cat: 911_Deaths_Grouped.csv: No such file or directory\r\n"
     ]
    }
   ],
   "source": [
    "with open('sell_short_trades_Grouped.csv','w') as outfile:\n",
    "    outfile.write(joined)\n",
    "\n",
    "!cat 911_Deaths_Grouped.csv | head -n 5"
   ]
  },
  {
   "cell_type": "code",
   "execution_count": 62,
   "metadata": {},
   "outputs": [
    {
     "data": {
      "text/plain": [
       "['CERS,SS,NEW,2,756,2.400000,2.340000,2.45000006/1406/191706149900003,09:30:CustSS,/17,/17,256945,00,0704,PerUnit,TERM,0.010000,AABBC,1706149900003#STA=GSCO',\n",
       " 'CERS,SS,NEW,100,2.36000018422.360000,2.37000006/1406/191706149900003,10:20:ContraSSFREX,/17,/17,866087,04,0704,PerUnit,TERM,0.010000,AABBC,1706149900003#STA=CERS',\n",
       " 'CERS,SS,NEW,200,2.350000,2.360000,2.37000006/1406/191706149900003,10:20:ContraSSFREX,/17,/17,866096,04,0704,PerUnit,TERM,0.010000,AABBC,1706149900003#STA=CERS',\n",
       " 'CERS,SS,NEW,100,2.350000,2.350000,2.36000006/1406/191706149900003,10:20:ContraSSFREX,/17,/17,869780,23,0704,PerUnit,TERM,0.010000,AABBC,1706149900003#STA=CERS',\n",
       " 'CERS,SS,NEW,100,2.350000,2.350000,2.36000006/1406/191706149900003,10:22:ContraSSFREX,/17,/17,892888,29,0704,PerUnit,TERM,0.010000,AABBC,1706149900003#STA=CERS',\n",
       " 'CERS,SS,NEW,100,2.360000,2.350000,2.36000006/1406/191706149900003,10:24:ContraSSFREX,/17,/17,909119,01,0704,PerUnit,TERM,0.010000,AABBC,1706149900003#STA=CERS',\n",
       " 'CERS,SS,NEW,100,2.36000085432.350000,2.36000006/1406/191706149900003,10:24:ContraSSFREX,/17,/17,909128,01,0704,PerUnit,TERM,0.010000,AABBC,1706149900003#STA=CERS',\n",
       " 'CERS,SS,NEW,100,2.360000,2.350000,2.36000006/1406/191706149900003,10:24:ContraSSFREX,/17,/17,909140,01,0704,PerUnit,TERM,0.010000,AABBC,1706149900003#STA=CERS',\n",
       " 'CERS,SS,NEW,100,2.360000,2.350000,2.36000006/1406/191706149900003,10:24:ContraSSFREX,/17,/17,909143,01,0704,PerUnit,TERM,0.010000,AABBC,1706149900003#STA=CERS',\n",
       " 'CERS,SS,NEW,100,2.360000,2.350000,2.36000006/1406/191706149900003,10:24:ContraSSFREX,/17,/17,909148,01,0704,PerUnit,TERM,0.010000,AABBC,1706149900003#STA=CERS']"
      ]
     },
     "execution_count": 62,
     "metadata": {},
     "output_type": "execute_result"
    }
   ],
   "source": [
    "with open('sell_short_trades_Grouped.csv') as f:\n",
    "    content = f.read()\n",
    "g_lines = content.split('\\n')\n",
    "g_lines[:10]"
   ]
  },
  {
   "cell_type": "code",
   "execution_count": null,
   "metadata": {},
   "outputs": [],
   "source": []
  },
  {
   "cell_type": "code",
   "execution_count": 64,
   "metadata": {
    "scrolled": false
   },
   "outputs": [
    {
     "data": {
      "text/plain": [
       "[]"
      ]
     },
     "execution_count": 64,
     "metadata": {},
     "output_type": "execute_result"
    }
   ],
   "source": [
    "expression = re.compile('(CERS|S|/17),.*')\n",
    "[(i, l) for i, l in enumerate(g_lines) if not expression.search(l)]\n",
    "                        "
   ]
  },
  {
   "cell_type": "code",
   "execution_count": 67,
   "metadata": {},
   "outputs": [
    {
     "data": {
      "text/plain": [
       "[]"
      ]
     },
     "execution_count": 67,
     "metadata": {},
     "output_type": "execute_result"
    }
   ],
   "source": [
    "expression = re.compile('.*,(SS|/17),.*')\n",
    "[(i, l) for i, l in enumerate(g_lines) if not expression.search(l)]"
   ]
  },
  {
   "cell_type": "code",
   "execution_count": null,
   "metadata": {},
   "outputs": [],
   "source": [
    "expression = re.compile('.*,(SS|/17),.*')\n",
    "[(i, l) for i, l in enumerate(g_lines) if not expression.search(l)]"
   ]
  },
  {
   "cell_type": "code",
   "execution_count": 81,
   "metadata": {},
   "outputs": [
    {
     "data": {
      "text/plain": [
       "[]"
      ]
     },
     "execution_count": 81,
     "metadata": {},
     "output_type": "execute_result"
    }
   ],
   "source": [
    "expression1 = re.compile('(CERS|S|/17),(SS|/17),(NEW|\\d\\d\\d\\d\\d\\d),(\\d\\,\\d\\d\\d|\\d00),(\\d\\.\\d*\\,\\d\\.\\d*|\\d\\.\\d*\\d\\.\\d*),(\\d\\.\\d*/1406/\\d*),(\\d\\d:\\d\\d:.*),(/17,/17|0704),(\\d\\d\\d\\d\\d\\d),(\\d\\d),(0704),(PerUnit),(TERM),(\\d\\.\\d*),(AABBC),(\\d*#STA=.*)')\n",
    "expression2 = re.compile('(/17),(/17),(\\d\\d\\d\\d\\d\\d),(\\d\\d),(0704),(PerUnit),(TERM),(\\d\\.\\d*),(AABBC),(\\d*#STA=.*)')\n",
    "expression3 = re.compile('(CERS|S),(SS),(NEW),(\\d\\,\\d\\d\\d|\\d00),(\\d\\.\\d*\\,\\d\\.\\d*|\\d\\.\\d*\\d\\.\\d*),(\\d\\.\\d*/1406/\\d*),(\\d\\d:\\d\\d:.*),(0704),(PerUnit),(TERM),(\\d\\.\\d*),(AABBC),(\\d*#STA=.*),(\\d\\d\\d\\d\\d\\d),(\\d\\d),(0704),(PerUnit),(TERM),(\\d\\.\\d*),(AABBC),(\\d*#STA=),(/17,/17|0704),(\\d\\d\\d\\d\\d\\d),(\\d\\d),(CERS|S),(SS),(NEW),(\\d\\,\\d\\d\\d|\\d00),(\\d\\.\\d*\\,\\d\\.\\d*|\\d\\.\\d*\\d\\.\\d*),(\\d\\.\\d*/1406/\\d*),(\\d\\d:\\d\\d:.*)')\n",
    "\n",
    "in_file = lambda l: expression1.search(l) or expression2.search(l) or expression3.search(l)\n",
    "culled_lines = [l for l in stripped_lines if not needs_removal(l)]\n",
    "[(i, l) for i, l in enumerate(g_lines) if not in_file]\n",
    "                        "
   ]
  }
 ],
 "metadata": {
  "kernelspec": {
   "display_name": "Python 3",
   "language": "python",
   "name": "python3"
  },
  "language_info": {
   "codemirror_mode": {
    "name": "ipython",
    "version": 3
   },
   "file_extension": ".py",
   "mimetype": "text/x-python",
   "name": "python",
   "nbconvert_exporter": "python",
   "pygments_lexer": "ipython3",
   "version": "3.7.6"
  }
 },
 "nbformat": 4,
 "nbformat_minor": 2
}
